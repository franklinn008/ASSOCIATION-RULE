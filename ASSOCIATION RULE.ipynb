{
 "cells": [
  {
   "cell_type": "code",
   "execution_count": 2,
   "metadata": {},
   "outputs": [],
   "source": [
    "#!pip install apyori"
   ]
  },
  {
   "cell_type": "code",
   "execution_count": 3,
   "metadata": {},
   "outputs": [],
   "source": [
    "import matplotlib.pyplot as plt\n",
    "import pandas as pd\n",
    "from apyori import apriori\n",
    "import utils\n",
    "%matplotlib inline"
   ]
  },
  {
   "cell_type": "code",
   "execution_count": 4,
   "metadata": {},
   "outputs": [],
   "source": [
    "#ASSOCIATION RULE MINING USING APRIORI ALGORITHMS\n",
    "#importing and reading dataset\n",
    "diagnosis = pd.read_csv('Acute_Inflammations.csv')"
   ]
  },
  {
   "cell_type": "code",
   "execution_count": 5,
   "metadata": {},
   "outputs": [
    {
     "data": {
      "text/html": [
       "<div>\n",
       "<style scoped>\n",
       "    .dataframe tbody tr th:only-of-type {\n",
       "        vertical-align: middle;\n",
       "    }\n",
       "\n",
       "    .dataframe tbody tr th {\n",
       "        vertical-align: top;\n",
       "    }\n",
       "\n",
       "    .dataframe thead th {\n",
       "        text-align: right;\n",
       "    }\n",
       "</style>\n",
       "<table border=\"1\" class=\"dataframe\">\n",
       "  <thead>\n",
       "    <tr style=\"text-align: right;\">\n",
       "      <th></th>\n",
       "      <th>Nausea</th>\n",
       "      <th>Lumbar_Pain</th>\n",
       "      <th>Urine_Pushing</th>\n",
       "      <th>Micturition_Pains</th>\n",
       "      <th>Urethra_Burning</th>\n",
       "      <th>Inflammation_Of_UB</th>\n",
       "      <th>Nephritis_Of_RPO</th>\n",
       "    </tr>\n",
       "  </thead>\n",
       "  <tbody>\n",
       "    <tr>\n",
       "      <th>0</th>\n",
       "      <td>no</td>\n",
       "      <td>yes</td>\n",
       "      <td>no</td>\n",
       "      <td>no</td>\n",
       "      <td>no</td>\n",
       "      <td>no</td>\n",
       "      <td>no</td>\n",
       "    </tr>\n",
       "    <tr>\n",
       "      <th>1</th>\n",
       "      <td>no</td>\n",
       "      <td>no</td>\n",
       "      <td>yes</td>\n",
       "      <td>yes</td>\n",
       "      <td>yes</td>\n",
       "      <td>yes</td>\n",
       "      <td>no</td>\n",
       "    </tr>\n",
       "    <tr>\n",
       "      <th>2</th>\n",
       "      <td>no</td>\n",
       "      <td>yes</td>\n",
       "      <td>no</td>\n",
       "      <td>no</td>\n",
       "      <td>no</td>\n",
       "      <td>no</td>\n",
       "      <td>no</td>\n",
       "    </tr>\n",
       "    <tr>\n",
       "      <th>3</th>\n",
       "      <td>no</td>\n",
       "      <td>no</td>\n",
       "      <td>yes</td>\n",
       "      <td>yes</td>\n",
       "      <td>yes</td>\n",
       "      <td>yes</td>\n",
       "      <td>no</td>\n",
       "    </tr>\n",
       "    <tr>\n",
       "      <th>4</th>\n",
       "      <td>no</td>\n",
       "      <td>yes</td>\n",
       "      <td>no</td>\n",
       "      <td>no</td>\n",
       "      <td>no</td>\n",
       "      <td>no</td>\n",
       "      <td>no</td>\n",
       "    </tr>\n",
       "  </tbody>\n",
       "</table>\n",
       "</div>"
      ],
      "text/plain": [
       "  Nausea Lumbar_Pain Urine_Pushing Micturition_Pains Urethra_Burning  \\\n",
       "0     no         yes            no                no              no   \n",
       "1     no          no           yes               yes             yes   \n",
       "2     no         yes            no                no              no   \n",
       "3     no          no           yes               yes             yes   \n",
       "4     no         yes            no                no              no   \n",
       "\n",
       "  Inflammation_Of_UB Nephritis_Of_RPO  \n",
       "0                 no               no  \n",
       "1                yes               no  \n",
       "2                 no               no  \n",
       "3                yes               no  \n",
       "4                 no               no  "
      ]
     },
     "execution_count": 5,
     "metadata": {},
     "output_type": "execute_result"
    }
   ],
   "source": [
    "#checking rows and columns\n",
    "#column patient's temperature was dropped during preprocessing on excel sheet\n",
    "diagnosis.head()"
   ]
  },
  {
   "cell_type": "code",
   "execution_count": 6,
   "metadata": {},
   "outputs": [
    {
     "data": {
      "text/html": [
       "<div>\n",
       "<style scoped>\n",
       "    .dataframe tbody tr th:only-of-type {\n",
       "        vertical-align: middle;\n",
       "    }\n",
       "\n",
       "    .dataframe tbody tr th {\n",
       "        vertical-align: top;\n",
       "    }\n",
       "\n",
       "    .dataframe thead th {\n",
       "        text-align: right;\n",
       "    }\n",
       "</style>\n",
       "<table border=\"1\" class=\"dataframe\">\n",
       "  <thead>\n",
       "    <tr style=\"text-align: right;\">\n",
       "      <th></th>\n",
       "      <th>Nausea</th>\n",
       "      <th>Lumbar_Pain</th>\n",
       "      <th>Urine_Pushing</th>\n",
       "      <th>Micturition_Pains</th>\n",
       "      <th>Urethra_Burning</th>\n",
       "      <th>Inflammation_Of_UB</th>\n",
       "      <th>Nephritis_Of_RPO</th>\n",
       "    </tr>\n",
       "  </thead>\n",
       "  <tbody>\n",
       "    <tr>\n",
       "      <th>115</th>\n",
       "      <td>no</td>\n",
       "      <td>yes</td>\n",
       "      <td>yes</td>\n",
       "      <td>no</td>\n",
       "      <td>yes</td>\n",
       "      <td>no</td>\n",
       "      <td>yes</td>\n",
       "    </tr>\n",
       "    <tr>\n",
       "      <th>116</th>\n",
       "      <td>no</td>\n",
       "      <td>no</td>\n",
       "      <td>no</td>\n",
       "      <td>no</td>\n",
       "      <td>no</td>\n",
       "      <td>no</td>\n",
       "      <td>no</td>\n",
       "    </tr>\n",
       "    <tr>\n",
       "      <th>117</th>\n",
       "      <td>yes</td>\n",
       "      <td>yes</td>\n",
       "      <td>no</td>\n",
       "      <td>yes</td>\n",
       "      <td>no</td>\n",
       "      <td>no</td>\n",
       "      <td>yes</td>\n",
       "    </tr>\n",
       "    <tr>\n",
       "      <th>118</th>\n",
       "      <td>no</td>\n",
       "      <td>yes</td>\n",
       "      <td>yes</td>\n",
       "      <td>no</td>\n",
       "      <td>yes</td>\n",
       "      <td>no</td>\n",
       "      <td>yes</td>\n",
       "    </tr>\n",
       "    <tr>\n",
       "      <th>119</th>\n",
       "      <td>no</td>\n",
       "      <td>yes</td>\n",
       "      <td>yes</td>\n",
       "      <td>no</td>\n",
       "      <td>yes</td>\n",
       "      <td>no</td>\n",
       "      <td>yes</td>\n",
       "    </tr>\n",
       "  </tbody>\n",
       "</table>\n",
       "</div>"
      ],
      "text/plain": [
       "    Nausea Lumbar_Pain Urine_Pushing Micturition_Pains Urethra_Burning  \\\n",
       "115     no         yes           yes                no             yes   \n",
       "116     no          no            no                no              no   \n",
       "117    yes         yes            no               yes              no   \n",
       "118     no         yes           yes                no             yes   \n",
       "119     no         yes           yes                no             yes   \n",
       "\n",
       "    Inflammation_Of_UB Nephritis_Of_RPO  \n",
       "115                 no              yes  \n",
       "116                 no               no  \n",
       "117                 no              yes  \n",
       "118                 no              yes  \n",
       "119                 no              yes  "
      ]
     },
     "execution_count": 6,
     "metadata": {},
     "output_type": "execute_result"
    }
   ],
   "source": [
    "#dataset analysis\n",
    "diagnosis.tail()"
   ]
  },
  {
   "cell_type": "code",
   "execution_count": 7,
   "metadata": {},
   "outputs": [
    {
     "data": {
      "text/html": [
       "<div>\n",
       "<style scoped>\n",
       "    .dataframe tbody tr th:only-of-type {\n",
       "        vertical-align: middle;\n",
       "    }\n",
       "\n",
       "    .dataframe tbody tr th {\n",
       "        vertical-align: top;\n",
       "    }\n",
       "\n",
       "    .dataframe thead th {\n",
       "        text-align: right;\n",
       "    }\n",
       "</style>\n",
       "<table border=\"1\" class=\"dataframe\">\n",
       "  <thead>\n",
       "    <tr style=\"text-align: right;\">\n",
       "      <th></th>\n",
       "      <th>Nausea</th>\n",
       "      <th>Lumbar_Pain</th>\n",
       "      <th>Urine_Pushing</th>\n",
       "      <th>Micturition_Pains</th>\n",
       "      <th>Urethra_Burning</th>\n",
       "      <th>Inflammation_Of_UB</th>\n",
       "      <th>Nephritis_Of_RPO</th>\n",
       "    </tr>\n",
       "  </thead>\n",
       "  <tbody>\n",
       "    <tr>\n",
       "      <th>count</th>\n",
       "      <td>120</td>\n",
       "      <td>120</td>\n",
       "      <td>120</td>\n",
       "      <td>120</td>\n",
       "      <td>120</td>\n",
       "      <td>120</td>\n",
       "      <td>120</td>\n",
       "    </tr>\n",
       "    <tr>\n",
       "      <th>unique</th>\n",
       "      <td>2</td>\n",
       "      <td>2</td>\n",
       "      <td>2</td>\n",
       "      <td>2</td>\n",
       "      <td>2</td>\n",
       "      <td>2</td>\n",
       "      <td>2</td>\n",
       "    </tr>\n",
       "    <tr>\n",
       "      <th>top</th>\n",
       "      <td>no</td>\n",
       "      <td>yes</td>\n",
       "      <td>yes</td>\n",
       "      <td>no</td>\n",
       "      <td>no</td>\n",
       "      <td>no</td>\n",
       "      <td>no</td>\n",
       "    </tr>\n",
       "    <tr>\n",
       "      <th>freq</th>\n",
       "      <td>91</td>\n",
       "      <td>70</td>\n",
       "      <td>80</td>\n",
       "      <td>61</td>\n",
       "      <td>70</td>\n",
       "      <td>61</td>\n",
       "      <td>70</td>\n",
       "    </tr>\n",
       "  </tbody>\n",
       "</table>\n",
       "</div>"
      ],
      "text/plain": [
       "       Nausea Lumbar_Pain Urine_Pushing Micturition_Pains Urethra_Burning  \\\n",
       "count     120         120           120               120             120   \n",
       "unique      2           2             2                 2               2   \n",
       "top        no         yes           yes                no              no   \n",
       "freq       91          70            80                61              70   \n",
       "\n",
       "       Inflammation_Of_UB Nephritis_Of_RPO  \n",
       "count                 120              120  \n",
       "unique                  2                2  \n",
       "top                    no               no  \n",
       "freq                   61               70  "
      ]
     },
     "execution_count": 7,
     "metadata": {},
     "output_type": "execute_result"
    }
   ],
   "source": [
    "#dataset description\n",
    "diagnosis.describe()"
   ]
  },
  {
   "cell_type": "code",
   "execution_count": 8,
   "metadata": {},
   "outputs": [
    {
     "data": {
      "text/plain": [
       "(120, 7)"
      ]
     },
     "execution_count": 8,
     "metadata": {},
     "output_type": "execute_result"
    }
   ],
   "source": [
    "diagnosis.shape"
   ]
  },
  {
   "cell_type": "code",
   "execution_count": 9,
   "metadata": {},
   "outputs": [
    {
     "name": "stdout",
     "output_type": "stream",
     "text": [
      "<class 'pandas.core.frame.DataFrame'>\n",
      "RangeIndex: 120 entries, 0 to 119\n",
      "Data columns (total 7 columns):\n",
      " #   Column              Non-Null Count  Dtype \n",
      "---  ------              --------------  ----- \n",
      " 0   Nausea              120 non-null    object\n",
      " 1   Lumbar_Pain         120 non-null    object\n",
      " 2   Urine_Pushing       120 non-null    object\n",
      " 3   Micturition_Pains   120 non-null    object\n",
      " 4   Urethra_Burning     120 non-null    object\n",
      " 5   Inflammation_Of_UB  120 non-null    object\n",
      " 6   Nephritis_Of_RPO    120 non-null    object\n",
      "dtypes: object(7)\n",
      "memory usage: 6.7+ KB\n"
     ]
    }
   ],
   "source": [
    "diagnosis.info()"
   ]
  },
  {
   "cell_type": "code",
   "execution_count": 10,
   "metadata": {},
   "outputs": [
    {
     "data": {
      "image/png": "[encoded data removed]",
      "text/plain": [
       "<Figure size 432x288 with 1 Axes>"
      ]
     },
     "metadata": {
      "needs_background": "light"
     },
     "output_type": "display_data"
    }
   ],
   "source": [
    "#stacked plotting and exploration of the various observations\n",
    "yes = (diagnosis=='yes').sum()\n",
    "no = (diagnosis=='no').sum()\n",
    "diagnosed = pd.concat([yes,no],axis=1,keys=['yes','no'])\n",
    "ax=diagnosed.plot.bar(stacked=True)\n",
    "plt.show()"
   ]
  },
  {
   "cell_type": "code",
   "execution_count": 11,
   "metadata": {},
   "outputs": [],
   "source": [
    "#main dataset preprocessing\n",
    "patients=utils.data_prepare(diagnosis)"
   ]
  },
  {
   "cell_type": "code",
   "execution_count": 12,
   "metadata": {},
   "outputs": [
    {
     "data": {
      "text/plain": [
       "[['Lumbar_Pain'],\n",
       " ['Urine_Pushing',\n",
       "  'Micturition_Pains',\n",
       "  'Urethra_Burning',\n",
       "  'Inflammation_Of_UB'],\n",
       " ['Lumbar_Pain'],\n",
       " ['Urine_Pushing',\n",
       "  'Micturition_Pains',\n",
       "  'Urethra_Burning',\n",
       "  'Inflammation_Of_UB'],\n",
       " ['Lumbar_Pain'],\n",
       " ['Lumbar_Pain'],\n",
       " ['Urine_Pushing',\n",
       "  'Micturition_Pains',\n",
       "  'Urethra_Burning',\n",
       "  'Inflammation_Of_UB'],\n",
       " ['Lumbar_Pain'],\n",
       " ['Urine_Pushing',\n",
       "  'Micturition_Pains',\n",
       "  'Urethra_Burning',\n",
       "  'Inflammation_Of_UB'],\n",
       " ['Urine_Pushing',\n",
       "  'Micturition_Pains',\n",
       "  'Urethra_Burning',\n",
       "  'Inflammation_Of_UB'],\n",
       " ['Urine_Pushing',\n",
       "  'Micturition_Pains',\n",
       "  'Urethra_Burning',\n",
       "  'Inflammation_Of_UB'],\n",
       " ['Lumbar_Pain'],\n",
       " ['Lumbar_Pain'],\n",
       " ['Urine_Pushing',\n",
       "  'Micturition_Pains',\n",
       "  'Urethra_Burning',\n",
       "  'Inflammation_Of_UB'],\n",
       " ['Lumbar_Pain'],\n",
       " ['Lumbar_Pain'],\n",
       " ['Urine_Pushing',\n",
       "  'Micturition_Pains',\n",
       "  'Urethra_Burning',\n",
       "  'Inflammation_Of_UB'],\n",
       " ['Urine_Pushing',\n",
       "  'Micturition_Pains',\n",
       "  'Urethra_Burning',\n",
       "  'Inflammation_Of_UB'],\n",
       " ['Urine_Pushing',\n",
       "  'Micturition_Pains',\n",
       "  'Urethra_Burning',\n",
       "  'Inflammation_Of_UB'],\n",
       " ['Lumbar_Pain'],\n",
       " ['Urine_Pushing', 'Micturition_Pains', 'Inflammation_Of_UB'],\n",
       " ['Urine_Pushing', 'Micturition_Pains', 'Inflammation_Of_UB'],\n",
       " ['Lumbar_Pain'],\n",
       " ['Urine_Pushing',\n",
       "  'Micturition_Pains',\n",
       "  'Urethra_Burning',\n",
       "  'Inflammation_Of_UB'],\n",
       " ['Urine_Pushing',\n",
       "  'Micturition_Pains',\n",
       "  'Urethra_Burning',\n",
       "  'Inflammation_Of_UB'],\n",
       " ['Urine_Pushing',\n",
       "  'Micturition_Pains',\n",
       "  'Urethra_Burning',\n",
       "  'Inflammation_Of_UB'],\n",
       " ['Urine_Pushing',\n",
       "  'Micturition_Pains',\n",
       "  'Urethra_Burning',\n",
       "  'Inflammation_Of_UB'],\n",
       " ['Urine_Pushing', 'Inflammation_Of_UB'],\n",
       " ['Lumbar_Pain'],\n",
       " ['Urine_Pushing',\n",
       "  'Micturition_Pains',\n",
       "  'Urethra_Burning',\n",
       "  'Inflammation_Of_UB'],\n",
       " ['Urine_Pushing', 'Inflammation_Of_UB'],\n",
       " ['Urine_Pushing', 'Micturition_Pains', 'Inflammation_Of_UB'],\n",
       " ['Lumbar_Pain'],\n",
       " ['Urine_Pushing', 'Inflammation_Of_UB'],\n",
       " ['Lumbar_Pain'],\n",
       " ['Urine_Pushing',\n",
       "  'Micturition_Pains',\n",
       "  'Urethra_Burning',\n",
       "  'Inflammation_Of_UB'],\n",
       " ['Urine_Pushing', 'Inflammation_Of_UB'],\n",
       " ['Lumbar_Pain'],\n",
       " ['Urine_Pushing', 'Inflammation_Of_UB'],\n",
       " ['Urine_Pushing', 'Micturition_Pains', 'Inflammation_Of_UB'],\n",
       " ['Lumbar_Pain'],\n",
       " ['Lumbar_Pain'],\n",
       " ['Urine_Pushing',\n",
       "  'Micturition_Pains',\n",
       "  'Urethra_Burning',\n",
       "  'Inflammation_Of_UB'],\n",
       " ['Urine_Pushing', 'Inflammation_Of_UB'],\n",
       " ['Urine_Pushing', 'Inflammation_Of_UB'],\n",
       " ['Urine_Pushing', 'Micturition_Pains', 'Inflammation_Of_UB'],\n",
       " ['Urine_Pushing', 'Micturition_Pains', 'Inflammation_Of_UB'],\n",
       " ['Urine_Pushing',\n",
       "  'Micturition_Pains',\n",
       "  'Urethra_Burning',\n",
       "  'Inflammation_Of_UB'],\n",
       " ['Urine_Pushing', 'Micturition_Pains', 'Inflammation_Of_UB'],\n",
       " ['Urine_Pushing', 'Micturition_Pains', 'Inflammation_Of_UB'],\n",
       " ['Lumbar_Pain'],\n",
       " ['Urine_Pushing', 'Inflammation_Of_UB'],\n",
       " ['Lumbar_Pain'],\n",
       " ['Urine_Pushing',\n",
       "  'Micturition_Pains',\n",
       "  'Urethra_Burning',\n",
       "  'Inflammation_Of_UB'],\n",
       " ['Urine_Pushing', 'Inflammation_Of_UB'],\n",
       " ['Urine_Pushing', 'Micturition_Pains', 'Inflammation_Of_UB'],\n",
       " ['Urine_Pushing', 'Micturition_Pains', 'Inflammation_Of_UB'],\n",
       " ['Lumbar_Pain'],\n",
       " ['Urine_Pushing',\n",
       "  'Micturition_Pains',\n",
       "  'Urethra_Burning',\n",
       "  'Inflammation_Of_UB'],\n",
       " ['Urine_Pushing', 'Inflammation_Of_UB'],\n",
       " ['Lumbar_Pain', 'Urine_Pushing', 'Urethra_Burning', 'Nephritis_Of_RPO'],\n",
       " ['Lumbar_Pain', 'Urine_Pushing', 'Urethra_Burning', 'Nephritis_Of_RPO'],\n",
       " ['Lumbar_Pain', 'Urine_Pushing', 'Urethra_Burning', 'Nephritis_Of_RPO'],\n",
       " ['Lumbar_Pain', 'Urine_Pushing', 'Urethra_Burning', 'Nephritis_Of_RPO'],\n",
       " ['Lumbar_Pain', 'Urine_Pushing', 'Urethra_Burning', 'Nephritis_Of_RPO'],\n",
       " ['Lumbar_Pain', 'Urine_Pushing', 'Urethra_Burning', 'Nephritis_Of_RPO'],\n",
       " ['Lumbar_Pain', 'Urine_Pushing', 'Urethra_Burning', 'Nephritis_Of_RPO'],\n",
       " ['Lumbar_Pain', 'Urine_Pushing', 'Urethra_Burning', 'Nephritis_Of_RPO'],\n",
       " ['Lumbar_Pain', 'Urine_Pushing', 'Urethra_Burning', 'Nephritis_Of_RPO'],\n",
       " ['Lumbar_Pain', 'Urine_Pushing', 'Urethra_Burning', 'Nephritis_Of_RPO'],\n",
       " ['Nausea',\n",
       "  'Lumbar_Pain',\n",
       "  'Urine_Pushing',\n",
       "  'Micturition_Pains',\n",
       "  'Urethra_Burning',\n",
       "  'Inflammation_Of_UB',\n",
       "  'Nephritis_Of_RPO'],\n",
       " ['Nausea',\n",
       "  'Lumbar_Pain',\n",
       "  'Urine_Pushing',\n",
       "  'Micturition_Pains',\n",
       "  'Urethra_Burning',\n",
       "  'Inflammation_Of_UB',\n",
       "  'Nephritis_Of_RPO'],\n",
       " ['Nausea',\n",
       "  'Lumbar_Pain',\n",
       "  'Urine_Pushing',\n",
       "  'Micturition_Pains',\n",
       "  'Inflammation_Of_UB',\n",
       "  'Nephritis_Of_RPO'],\n",
       " [],\n",
       " [],\n",
       " ['Nausea', 'Lumbar_Pain', 'Micturition_Pains', 'Nephritis_Of_RPO'],\n",
       " ['Nausea', 'Lumbar_Pain', 'Micturition_Pains', 'Nephritis_Of_RPO'],\n",
       " ['Lumbar_Pain', 'Urine_Pushing', 'Urethra_Burning', 'Nephritis_Of_RPO'],\n",
       " ['Nausea',\n",
       "  'Lumbar_Pain',\n",
       "  'Urine_Pushing',\n",
       "  'Micturition_Pains',\n",
       "  'Inflammation_Of_UB',\n",
       "  'Nephritis_Of_RPO'],\n",
       " ['Nausea',\n",
       "  'Lumbar_Pain',\n",
       "  'Urine_Pushing',\n",
       "  'Micturition_Pains',\n",
       "  'Urethra_Burning',\n",
       "  'Inflammation_Of_UB',\n",
       "  'Nephritis_Of_RPO'],\n",
       " [],\n",
       " ['Nausea', 'Lumbar_Pain', 'Micturition_Pains', 'Nephritis_Of_RPO'],\n",
       " ['Lumbar_Pain', 'Urine_Pushing', 'Urethra_Burning', 'Nephritis_Of_RPO'],\n",
       " ['Nausea',\n",
       "  'Lumbar_Pain',\n",
       "  'Urine_Pushing',\n",
       "  'Micturition_Pains',\n",
       "  'Urethra_Burning',\n",
       "  'Inflammation_Of_UB',\n",
       "  'Nephritis_Of_RPO'],\n",
       " ['Nausea',\n",
       "  'Lumbar_Pain',\n",
       "  'Urine_Pushing',\n",
       "  'Micturition_Pains',\n",
       "  'Inflammation_Of_UB',\n",
       "  'Nephritis_Of_RPO'],\n",
       " ['Nausea',\n",
       "  'Lumbar_Pain',\n",
       "  'Urine_Pushing',\n",
       "  'Micturition_Pains',\n",
       "  'Inflammation_Of_UB',\n",
       "  'Nephritis_Of_RPO'],\n",
       " [],\n",
       " ['Nausea', 'Lumbar_Pain', 'Micturition_Pains', 'Nephritis_Of_RPO'],\n",
       " ['Nausea',\n",
       "  'Lumbar_Pain',\n",
       "  'Urine_Pushing',\n",
       "  'Micturition_Pains',\n",
       "  'Inflammation_Of_UB',\n",
       "  'Nephritis_Of_RPO'],\n",
       " ['Nausea',\n",
       "  'Lumbar_Pain',\n",
       "  'Urine_Pushing',\n",
       "  'Micturition_Pains',\n",
       "  'Urethra_Burning',\n",
       "  'Inflammation_Of_UB',\n",
       "  'Nephritis_Of_RPO'],\n",
       " [],\n",
       " ['Nausea', 'Lumbar_Pain', 'Micturition_Pains', 'Nephritis_Of_RPO'],\n",
       " ['Nausea',\n",
       "  'Lumbar_Pain',\n",
       "  'Urine_Pushing',\n",
       "  'Micturition_Pains',\n",
       "  'Urethra_Burning',\n",
       "  'Inflammation_Of_UB',\n",
       "  'Nephritis_Of_RPO'],\n",
       " ['Nausea',\n",
       "  'Lumbar_Pain',\n",
       "  'Urine_Pushing',\n",
       "  'Micturition_Pains',\n",
       "  'Inflammation_Of_UB',\n",
       "  'Nephritis_Of_RPO'],\n",
       " [],\n",
       " ['Nausea', 'Lumbar_Pain', 'Micturition_Pains', 'Nephritis_Of_RPO'],\n",
       " ['Lumbar_Pain', 'Urine_Pushing', 'Urethra_Burning', 'Nephritis_Of_RPO'],\n",
       " ['Lumbar_Pain', 'Urine_Pushing', 'Urethra_Burning', 'Nephritis_Of_RPO'],\n",
       " ['Nausea',\n",
       "  'Lumbar_Pain',\n",
       "  'Urine_Pushing',\n",
       "  'Micturition_Pains',\n",
       "  'Inflammation_Of_UB',\n",
       "  'Nephritis_Of_RPO'],\n",
       " ['Nausea',\n",
       "  'Lumbar_Pain',\n",
       "  'Urine_Pushing',\n",
       "  'Micturition_Pains',\n",
       "  'Inflammation_Of_UB',\n",
       "  'Nephritis_Of_RPO'],\n",
       " ['Lumbar_Pain', 'Urine_Pushing', 'Urethra_Burning', 'Nephritis_Of_RPO'],\n",
       " ['Nausea',\n",
       "  'Lumbar_Pain',\n",
       "  'Urine_Pushing',\n",
       "  'Micturition_Pains',\n",
       "  'Urethra_Burning',\n",
       "  'Inflammation_Of_UB',\n",
       "  'Nephritis_Of_RPO'],\n",
       " [],\n",
       " ['Nausea', 'Lumbar_Pain', 'Micturition_Pains', 'Nephritis_Of_RPO'],\n",
       " ['Lumbar_Pain', 'Urine_Pushing', 'Urethra_Burning', 'Nephritis_Of_RPO'],\n",
       " ['Nausea',\n",
       "  'Lumbar_Pain',\n",
       "  'Urine_Pushing',\n",
       "  'Micturition_Pains',\n",
       "  'Urethra_Burning',\n",
       "  'Inflammation_Of_UB',\n",
       "  'Nephritis_Of_RPO'],\n",
       " ['Nausea',\n",
       "  'Lumbar_Pain',\n",
       "  'Urine_Pushing',\n",
       "  'Micturition_Pains',\n",
       "  'Inflammation_Of_UB',\n",
       "  'Nephritis_Of_RPO'],\n",
       " [],\n",
       " ['Nausea', 'Lumbar_Pain', 'Micturition_Pains', 'Nephritis_Of_RPO'],\n",
       " ['Lumbar_Pain', 'Urine_Pushing', 'Urethra_Burning', 'Nephritis_Of_RPO'],\n",
       " ['Nausea',\n",
       "  'Lumbar_Pain',\n",
       "  'Urine_Pushing',\n",
       "  'Micturition_Pains',\n",
       "  'Urethra_Burning',\n",
       "  'Inflammation_Of_UB',\n",
       "  'Nephritis_Of_RPO'],\n",
       " [],\n",
       " ['Nausea', 'Lumbar_Pain', 'Micturition_Pains', 'Nephritis_Of_RPO'],\n",
       " ['Lumbar_Pain', 'Urine_Pushing', 'Urethra_Burning', 'Nephritis_Of_RPO'],\n",
       " ['Nausea',\n",
       "  'Lumbar_Pain',\n",
       "  'Urine_Pushing',\n",
       "  'Micturition_Pains',\n",
       "  'Inflammation_Of_UB',\n",
       "  'Nephritis_Of_RPO'],\n",
       " ['Lumbar_Pain', 'Urine_Pushing', 'Urethra_Burning', 'Nephritis_Of_RPO'],\n",
       " [],\n",
       " ['Nausea', 'Lumbar_Pain', 'Micturition_Pains', 'Nephritis_Of_RPO'],\n",
       " ['Lumbar_Pain', 'Urine_Pushing', 'Urethra_Burning', 'Nephritis_Of_RPO'],\n",
       " ['Lumbar_Pain', 'Urine_Pushing', 'Urethra_Burning', 'Nephritis_Of_RPO']]"
      ]
     },
     "execution_count": 12,
     "metadata": {},
     "output_type": "execute_result"
    }
   ],
   "source": [
    "#reading the patients utils package\n",
    "patients"
   ]
  },
  {
   "cell_type": "code",
   "execution_count": 13,
   "metadata": {},
   "outputs": [
    {
     "data": {
      "text/plain": [
       "115"
      ]
     },
     "execution_count": 13,
     "metadata": {},
     "output_type": "execute_result"
    }
   ],
   "source": [
    "#creating association rule on main dataset\n",
    "Rules = list(apriori(patients, min_support=0.20,min_confidence=0.50))\n",
    "associationRules = utils.extract(Rules)\n",
    "rules_df=pd.DataFrame(associationRules,columns=['LHS','RHS','Support','Confidence','Lift'])\n",
    "len(rules_df)\n"
   ]
  },
  {
   "cell_type": "code",
   "execution_count": 14,
   "metadata": {},
   "outputs": [
    {
     "data": {
      "text/plain": [
       "(115, 5)"
      ]
     },
     "execution_count": 14,
     "metadata": {},
     "output_type": "execute_result"
    }
   ],
   "source": [
    "rules_df.shape"
   ]
  },
  {
   "cell_type": "code",
   "execution_count": 15,
   "metadata": {},
   "outputs": [
    {
     "data": {
      "text/html": [
       "<div>\n",
       "<style scoped>\n",
       "    .dataframe tbody tr th:only-of-type {\n",
       "        vertical-align: middle;\n",
       "    }\n",
       "\n",
       "    .dataframe tbody tr th {\n",
       "        vertical-align: top;\n",
       "    }\n",
       "\n",
       "    .dataframe thead th {\n",
       "        text-align: right;\n",
       "    }\n",
       "</style>\n",
       "<table border=\"1\" class=\"dataframe\">\n",
       "  <thead>\n",
       "    <tr style=\"text-align: right;\">\n",
       "      <th></th>\n",
       "      <th>LHS</th>\n",
       "      <th>RHS</th>\n",
       "      <th>Support</th>\n",
       "      <th>Confidence</th>\n",
       "      <th>Lift</th>\n",
       "    </tr>\n",
       "  </thead>\n",
       "  <tbody>\n",
       "    <tr>\n",
       "      <th>39</th>\n",
       "      <td>[Nausea]</td>\n",
       "      <td>[Lumbar_Pain, Micturition_Pains]</td>\n",
       "      <td>0.241667</td>\n",
       "      <td>1.0</td>\n",
       "      <td>4.137931</td>\n",
       "    </tr>\n",
       "    <tr>\n",
       "      <th>40</th>\n",
       "      <td>[Lumbar_Pain, Micturition_Pains]</td>\n",
       "      <td>[Nausea]</td>\n",
       "      <td>0.241667</td>\n",
       "      <td>1.0</td>\n",
       "      <td>4.137931</td>\n",
       "    </tr>\n",
       "    <tr>\n",
       "      <th>67</th>\n",
       "      <td>[Nausea]</td>\n",
       "      <td>[Nephritis_Of_RPO, Micturition_Pains]</td>\n",
       "      <td>0.241667</td>\n",
       "      <td>1.0</td>\n",
       "      <td>4.137931</td>\n",
       "    </tr>\n",
       "    <tr>\n",
       "      <th>70</th>\n",
       "      <td>[Nephritis_Of_RPO, Micturition_Pains]</td>\n",
       "      <td>[Nausea]</td>\n",
       "      <td>0.241667</td>\n",
       "      <td>1.0</td>\n",
       "      <td>4.137931</td>\n",
       "    </tr>\n",
       "    <tr>\n",
       "      <th>91</th>\n",
       "      <td>[Nausea]</td>\n",
       "      <td>[Lumbar_Pain, Micturition_Pains, Nephritis_Of_...</td>\n",
       "      <td>0.241667</td>\n",
       "      <td>1.0</td>\n",
       "      <td>4.137931</td>\n",
       "    </tr>\n",
       "    <tr>\n",
       "      <th>93</th>\n",
       "      <td>[Lumbar_Pain, Micturition_Pains]</td>\n",
       "      <td>[Nausea, Nephritis_Of_RPO]</td>\n",
       "      <td>0.241667</td>\n",
       "      <td>1.0</td>\n",
       "      <td>4.137931</td>\n",
       "    </tr>\n",
       "    <tr>\n",
       "      <th>94</th>\n",
       "      <td>[Lumbar_Pain, Nausea]</td>\n",
       "      <td>[Nephritis_Of_RPO, Micturition_Pains]</td>\n",
       "      <td>0.241667</td>\n",
       "      <td>1.0</td>\n",
       "      <td>4.137931</td>\n",
       "    </tr>\n",
       "    <tr>\n",
       "      <th>97</th>\n",
       "      <td>[Nephritis_Of_RPO, Micturition_Pains]</td>\n",
       "      <td>[Lumbar_Pain, Nausea]</td>\n",
       "      <td>0.241667</td>\n",
       "      <td>1.0</td>\n",
       "      <td>4.137931</td>\n",
       "    </tr>\n",
       "    <tr>\n",
       "      <th>98</th>\n",
       "      <td>[Nausea, Nephritis_Of_RPO]</td>\n",
       "      <td>[Lumbar_Pain, Micturition_Pains]</td>\n",
       "      <td>0.241667</td>\n",
       "      <td>1.0</td>\n",
       "      <td>4.137931</td>\n",
       "    </tr>\n",
       "    <tr>\n",
       "      <th>100</th>\n",
       "      <td>[Lumbar_Pain, Micturition_Pains, Nephritis_Of_...</td>\n",
       "      <td>[Nausea]</td>\n",
       "      <td>0.241667</td>\n",
       "      <td>1.0</td>\n",
       "      <td>4.137931</td>\n",
       "    </tr>\n",
       "  </tbody>\n",
       "</table>\n",
       "</div>"
      ],
      "text/plain": [
       "                                                   LHS  \\\n",
       "39                                            [Nausea]   \n",
       "40                    [Lumbar_Pain, Micturition_Pains]   \n",
       "67                                            [Nausea]   \n",
       "70               [Nephritis_Of_RPO, Micturition_Pains]   \n",
       "91                                            [Nausea]   \n",
       "93                    [Lumbar_Pain, Micturition_Pains]   \n",
       "94                               [Lumbar_Pain, Nausea]   \n",
       "97               [Nephritis_Of_RPO, Micturition_Pains]   \n",
       "98                          [Nausea, Nephritis_Of_RPO]   \n",
       "100  [Lumbar_Pain, Micturition_Pains, Nephritis_Of_...   \n",
       "\n",
       "                                                   RHS   Support  Confidence  \\\n",
       "39                    [Lumbar_Pain, Micturition_Pains]  0.241667         1.0   \n",
       "40                                            [Nausea]  0.241667         1.0   \n",
       "67               [Nephritis_Of_RPO, Micturition_Pains]  0.241667         1.0   \n",
       "70                                            [Nausea]  0.241667         1.0   \n",
       "91   [Lumbar_Pain, Micturition_Pains, Nephritis_Of_...  0.241667         1.0   \n",
       "93                          [Nausea, Nephritis_Of_RPO]  0.241667         1.0   \n",
       "94               [Nephritis_Of_RPO, Micturition_Pains]  0.241667         1.0   \n",
       "97                               [Lumbar_Pain, Nausea]  0.241667         1.0   \n",
       "98                    [Lumbar_Pain, Micturition_Pains]  0.241667         1.0   \n",
       "100                                           [Nausea]  0.241667         1.0   \n",
       "\n",
       "         Lift  \n",
       "39   4.137931  \n",
       "40   4.137931  \n",
       "67   4.137931  \n",
       "70   4.137931  \n",
       "91   4.137931  \n",
       "93   4.137931  \n",
       "94   4.137931  \n",
       "97   4.137931  \n",
       "98   4.137931  \n",
       "100  4.137931  "
      ]
     },
     "execution_count": 15,
     "metadata": {},
     "output_type": "execute_result"
    }
   ],
   "source": [
    "#checking rules with highest Lift\n",
    "\n",
    "rules_df.nlargest(10,\"Lift\")"
   ]
  },
  {
   "cell_type": "code",
   "execution_count": 16,
   "metadata": {},
   "outputs": [
    {
     "data": {
      "text/html": [
       "<div>\n",
       "<style scoped>\n",
       "    .dataframe tbody tr th:only-of-type {\n",
       "        vertical-align: middle;\n",
       "    }\n",
       "\n",
       "    .dataframe tbody tr th {\n",
       "        vertical-align: top;\n",
       "    }\n",
       "\n",
       "    .dataframe thead th {\n",
       "        text-align: right;\n",
       "    }\n",
       "</style>\n",
       "<table border=\"1\" class=\"dataframe\">\n",
       "  <thead>\n",
       "    <tr style=\"text-align: right;\">\n",
       "      <th></th>\n",
       "      <th>LHS</th>\n",
       "      <th>RHS</th>\n",
       "      <th>Support</th>\n",
       "      <th>Confidence</th>\n",
       "      <th>Lift</th>\n",
       "    </tr>\n",
       "  </thead>\n",
       "  <tbody>\n",
       "    <tr>\n",
       "      <th>1</th>\n",
       "      <td>[]</td>\n",
       "      <td>[Urine_Pushing]</td>\n",
       "      <td>0.666667</td>\n",
       "      <td>0.666667</td>\n",
       "      <td>1.000000</td>\n",
       "    </tr>\n",
       "    <tr>\n",
       "      <th>0</th>\n",
       "      <td>[]</td>\n",
       "      <td>[Lumbar_Pain]</td>\n",
       "      <td>0.583333</td>\n",
       "      <td>0.583333</td>\n",
       "      <td>1.000000</td>\n",
       "    </tr>\n",
       "    <tr>\n",
       "      <th>5</th>\n",
       "      <td>[Inflammation_Of_UB]</td>\n",
       "      <td>[Urine_Pushing]</td>\n",
       "      <td>0.491667</td>\n",
       "      <td>1.000000</td>\n",
       "      <td>1.500000</td>\n",
       "    </tr>\n",
       "    <tr>\n",
       "      <th>6</th>\n",
       "      <td>[Urine_Pushing]</td>\n",
       "      <td>[Inflammation_Of_UB]</td>\n",
       "      <td>0.491667</td>\n",
       "      <td>0.737500</td>\n",
       "      <td>1.500000</td>\n",
       "    </tr>\n",
       "    <tr>\n",
       "      <th>8</th>\n",
       "      <td>[Lumbar_Pain]</td>\n",
       "      <td>[Nephritis_Of_RPO]</td>\n",
       "      <td>0.416667</td>\n",
       "      <td>0.714286</td>\n",
       "      <td>1.714286</td>\n",
       "    </tr>\n",
       "    <tr>\n",
       "      <th>9</th>\n",
       "      <td>[Nephritis_Of_RPO]</td>\n",
       "      <td>[Lumbar_Pain]</td>\n",
       "      <td>0.416667</td>\n",
       "      <td>1.000000</td>\n",
       "      <td>1.714286</td>\n",
       "    </tr>\n",
       "    <tr>\n",
       "      <th>24</th>\n",
       "      <td>[Urethra_Burning]</td>\n",
       "      <td>[Urine_Pushing]</td>\n",
       "      <td>0.416667</td>\n",
       "      <td>1.000000</td>\n",
       "      <td>1.500000</td>\n",
       "    </tr>\n",
       "    <tr>\n",
       "      <th>25</th>\n",
       "      <td>[Urine_Pushing]</td>\n",
       "      <td>[Urethra_Burning]</td>\n",
       "      <td>0.416667</td>\n",
       "      <td>0.625000</td>\n",
       "      <td>1.500000</td>\n",
       "    </tr>\n",
       "    <tr>\n",
       "      <th>2</th>\n",
       "      <td>[Inflammation_Of_UB]</td>\n",
       "      <td>[Micturition_Pains]</td>\n",
       "      <td>0.408333</td>\n",
       "      <td>0.830508</td>\n",
       "      <td>1.689170</td>\n",
       "    </tr>\n",
       "    <tr>\n",
       "      <th>3</th>\n",
       "      <td>[Micturition_Pains]</td>\n",
       "      <td>[Inflammation_Of_UB]</td>\n",
       "      <td>0.408333</td>\n",
       "      <td>0.830508</td>\n",
       "      <td>1.689170</td>\n",
       "    </tr>\n",
       "  </tbody>\n",
       "</table>\n",
       "</div>"
      ],
      "text/plain": [
       "                     LHS                   RHS   Support  Confidence      Lift\n",
       "1                     []       [Urine_Pushing]  0.666667    0.666667  1.000000\n",
       "0                     []         [Lumbar_Pain]  0.583333    0.583333  1.000000\n",
       "5   [Inflammation_Of_UB]       [Urine_Pushing]  0.491667    1.000000  1.500000\n",
       "6        [Urine_Pushing]  [Inflammation_Of_UB]  0.491667    0.737500  1.500000\n",
       "8          [Lumbar_Pain]    [Nephritis_Of_RPO]  0.416667    0.714286  1.714286\n",
       "9     [Nephritis_Of_RPO]         [Lumbar_Pain]  0.416667    1.000000  1.714286\n",
       "24     [Urethra_Burning]       [Urine_Pushing]  0.416667    1.000000  1.500000\n",
       "25       [Urine_Pushing]     [Urethra_Burning]  0.416667    0.625000  1.500000\n",
       "2   [Inflammation_Of_UB]   [Micturition_Pains]  0.408333    0.830508  1.689170\n",
       "3    [Micturition_Pains]  [Inflammation_Of_UB]  0.408333    0.830508  1.689170"
      ]
     },
     "execution_count": 16,
     "metadata": {},
     "output_type": "execute_result"
    }
   ],
   "source": [
    "#checking rules with highest Support\n",
    "#Top rules has empty item sets on the LHS from the observationn below\n",
    "rules_df.nlargest(10,\"Support\")"
   ]
  },
  {
   "cell_type": "code",
   "execution_count": 17,
   "metadata": {},
   "outputs": [
    {
     "data": {
      "text/html": [
       "<div>\n",
       "<style scoped>\n",
       "    .dataframe tbody tr th:only-of-type {\n",
       "        vertical-align: middle;\n",
       "    }\n",
       "\n",
       "    .dataframe tbody tr th {\n",
       "        vertical-align: top;\n",
       "    }\n",
       "\n",
       "    .dataframe thead th {\n",
       "        text-align: right;\n",
       "    }\n",
       "</style>\n",
       "<table border=\"1\" class=\"dataframe\">\n",
       "  <thead>\n",
       "    <tr style=\"text-align: right;\">\n",
       "      <th></th>\n",
       "      <th>LHS</th>\n",
       "      <th>RHS</th>\n",
       "      <th>Support</th>\n",
       "      <th>Confidence</th>\n",
       "      <th>Lift</th>\n",
       "    </tr>\n",
       "  </thead>\n",
       "  <tbody>\n",
       "    <tr>\n",
       "      <th>5</th>\n",
       "      <td>[Inflammation_Of_UB]</td>\n",
       "      <td>[Urine_Pushing]</td>\n",
       "      <td>0.491667</td>\n",
       "      <td>1.0</td>\n",
       "      <td>1.500000</td>\n",
       "    </tr>\n",
       "    <tr>\n",
       "      <th>7</th>\n",
       "      <td>[Nausea]</td>\n",
       "      <td>[Lumbar_Pain]</td>\n",
       "      <td>0.241667</td>\n",
       "      <td>1.0</td>\n",
       "      <td>1.714286</td>\n",
       "    </tr>\n",
       "    <tr>\n",
       "      <th>9</th>\n",
       "      <td>[Nephritis_Of_RPO]</td>\n",
       "      <td>[Lumbar_Pain]</td>\n",
       "      <td>0.416667</td>\n",
       "      <td>1.0</td>\n",
       "      <td>1.714286</td>\n",
       "    </tr>\n",
       "    <tr>\n",
       "      <th>13</th>\n",
       "      <td>[Nausea]</td>\n",
       "      <td>[Micturition_Pains]</td>\n",
       "      <td>0.241667</td>\n",
       "      <td>1.0</td>\n",
       "      <td>2.033898</td>\n",
       "    </tr>\n",
       "    <tr>\n",
       "      <th>18</th>\n",
       "      <td>[Nausea]</td>\n",
       "      <td>[Nephritis_Of_RPO]</td>\n",
       "      <td>0.241667</td>\n",
       "      <td>1.0</td>\n",
       "      <td>2.400000</td>\n",
       "    </tr>\n",
       "    <tr>\n",
       "      <th>24</th>\n",
       "      <td>[Urethra_Burning]</td>\n",
       "      <td>[Urine_Pushing]</td>\n",
       "      <td>0.416667</td>\n",
       "      <td>1.0</td>\n",
       "      <td>1.500000</td>\n",
       "    </tr>\n",
       "    <tr>\n",
       "      <th>28</th>\n",
       "      <td>[Inflammation_Of_UB, Urethra_Burning]</td>\n",
       "      <td>[Micturition_Pains]</td>\n",
       "      <td>0.241667</td>\n",
       "      <td>1.0</td>\n",
       "      <td>2.033898</td>\n",
       "    </tr>\n",
       "    <tr>\n",
       "      <th>29</th>\n",
       "      <td>[Urethra_Burning, Micturition_Pains]</td>\n",
       "      <td>[Inflammation_Of_UB]</td>\n",
       "      <td>0.241667</td>\n",
       "      <td>1.0</td>\n",
       "      <td>2.033898</td>\n",
       "    </tr>\n",
       "    <tr>\n",
       "      <th>33</th>\n",
       "      <td>[Inflammation_Of_UB, Micturition_Pains]</td>\n",
       "      <td>[Urine_Pushing]</td>\n",
       "      <td>0.408333</td>\n",
       "      <td>1.0</td>\n",
       "      <td>1.500000</td>\n",
       "    </tr>\n",
       "    <tr>\n",
       "      <th>35</th>\n",
       "      <td>[Urine_Pushing, Micturition_Pains]</td>\n",
       "      <td>[Inflammation_Of_UB]</td>\n",
       "      <td>0.408333</td>\n",
       "      <td>1.0</td>\n",
       "      <td>2.033898</td>\n",
       "    </tr>\n",
       "  </tbody>\n",
       "</table>\n",
       "</div>"
      ],
      "text/plain": [
       "                                        LHS                   RHS   Support  \\\n",
       "5                      [Inflammation_Of_UB]       [Urine_Pushing]  0.491667   \n",
       "7                                  [Nausea]         [Lumbar_Pain]  0.241667   \n",
       "9                        [Nephritis_Of_RPO]         [Lumbar_Pain]  0.416667   \n",
       "13                                 [Nausea]   [Micturition_Pains]  0.241667   \n",
       "18                                 [Nausea]    [Nephritis_Of_RPO]  0.241667   \n",
       "24                        [Urethra_Burning]       [Urine_Pushing]  0.416667   \n",
       "28    [Inflammation_Of_UB, Urethra_Burning]   [Micturition_Pains]  0.241667   \n",
       "29     [Urethra_Burning, Micturition_Pains]  [Inflammation_Of_UB]  0.241667   \n",
       "33  [Inflammation_Of_UB, Micturition_Pains]       [Urine_Pushing]  0.408333   \n",
       "35       [Urine_Pushing, Micturition_Pains]  [Inflammation_Of_UB]  0.408333   \n",
       "\n",
       "    Confidence      Lift  \n",
       "5          1.0  1.500000  \n",
       "7          1.0  1.714286  \n",
       "9          1.0  1.714286  \n",
       "13         1.0  2.033898  \n",
       "18         1.0  2.400000  \n",
       "24         1.0  1.500000  \n",
       "28         1.0  2.033898  \n",
       "29         1.0  2.033898  \n",
       "33         1.0  1.500000  \n",
       "35         1.0  2.033898  "
      ]
     },
     "execution_count": 17,
     "metadata": {},
     "output_type": "execute_result"
    }
   ],
   "source": [
    "#checking rules with highest Confidence\n",
    "rules_df.nlargest(10,\"Confidence\")"
   ]
  },
  {
   "cell_type": "code",
   "execution_count": 18,
   "metadata": {},
   "outputs": [
    {
     "data": {
      "text/html": [
       "<div>\n",
       "<style scoped>\n",
       "    .dataframe tbody tr th:only-of-type {\n",
       "        vertical-align: middle;\n",
       "    }\n",
       "\n",
       "    .dataframe tbody tr th {\n",
       "        vertical-align: top;\n",
       "    }\n",
       "\n",
       "    .dataframe thead th {\n",
       "        text-align: right;\n",
       "    }\n",
       "</style>\n",
       "<table border=\"1\" class=\"dataframe\">\n",
       "  <thead>\n",
       "    <tr style=\"text-align: right;\">\n",
       "      <th></th>\n",
       "      <th>LHS</th>\n",
       "      <th>RHS</th>\n",
       "      <th>Support</th>\n",
       "      <th>Confidence</th>\n",
       "      <th>Lift</th>\n",
       "    </tr>\n",
       "  </thead>\n",
       "  <tbody>\n",
       "    <tr>\n",
       "      <th>5</th>\n",
       "      <td>[Inflammation_Of_UB]</td>\n",
       "      <td>[Urine_Pushing]</td>\n",
       "      <td>0.491667</td>\n",
       "      <td>1.000000</td>\n",
       "      <td>1.500000</td>\n",
       "    </tr>\n",
       "    <tr>\n",
       "      <th>6</th>\n",
       "      <td>[Urine_Pushing]</td>\n",
       "      <td>[Inflammation_Of_UB]</td>\n",
       "      <td>0.491667</td>\n",
       "      <td>0.737500</td>\n",
       "      <td>1.500000</td>\n",
       "    </tr>\n",
       "    <tr>\n",
       "      <th>8</th>\n",
       "      <td>[Lumbar_Pain]</td>\n",
       "      <td>[Nephritis_Of_RPO]</td>\n",
       "      <td>0.416667</td>\n",
       "      <td>0.714286</td>\n",
       "      <td>1.714286</td>\n",
       "    </tr>\n",
       "    <tr>\n",
       "      <th>9</th>\n",
       "      <td>[Nephritis_Of_RPO]</td>\n",
       "      <td>[Lumbar_Pain]</td>\n",
       "      <td>0.416667</td>\n",
       "      <td>1.000000</td>\n",
       "      <td>1.714286</td>\n",
       "    </tr>\n",
       "    <tr>\n",
       "      <th>24</th>\n",
       "      <td>[Urethra_Burning]</td>\n",
       "      <td>[Urine_Pushing]</td>\n",
       "      <td>0.416667</td>\n",
       "      <td>1.000000</td>\n",
       "      <td>1.500000</td>\n",
       "    </tr>\n",
       "    <tr>\n",
       "      <th>25</th>\n",
       "      <td>[Urine_Pushing]</td>\n",
       "      <td>[Urethra_Burning]</td>\n",
       "      <td>0.416667</td>\n",
       "      <td>0.625000</td>\n",
       "      <td>1.500000</td>\n",
       "    </tr>\n",
       "    <tr>\n",
       "      <th>2</th>\n",
       "      <td>[Inflammation_Of_UB]</td>\n",
       "      <td>[Micturition_Pains]</td>\n",
       "      <td>0.408333</td>\n",
       "      <td>0.830508</td>\n",
       "      <td>1.689170</td>\n",
       "    </tr>\n",
       "    <tr>\n",
       "      <th>3</th>\n",
       "      <td>[Micturition_Pains]</td>\n",
       "      <td>[Inflammation_Of_UB]</td>\n",
       "      <td>0.408333</td>\n",
       "      <td>0.830508</td>\n",
       "      <td>1.689170</td>\n",
       "    </tr>\n",
       "    <tr>\n",
       "      <th>16</th>\n",
       "      <td>[Micturition_Pains]</td>\n",
       "      <td>[Urine_Pushing]</td>\n",
       "      <td>0.408333</td>\n",
       "      <td>0.830508</td>\n",
       "      <td>1.245763</td>\n",
       "    </tr>\n",
       "    <tr>\n",
       "      <th>17</th>\n",
       "      <td>[Urine_Pushing]</td>\n",
       "      <td>[Micturition_Pains]</td>\n",
       "      <td>0.408333</td>\n",
       "      <td>0.612500</td>\n",
       "      <td>1.245763</td>\n",
       "    </tr>\n",
       "  </tbody>\n",
       "</table>\n",
       "</div>"
      ],
      "text/plain": [
       "                     LHS                   RHS   Support  Confidence      Lift\n",
       "5   [Inflammation_Of_UB]       [Urine_Pushing]  0.491667    1.000000  1.500000\n",
       "6        [Urine_Pushing]  [Inflammation_Of_UB]  0.491667    0.737500  1.500000\n",
       "8          [Lumbar_Pain]    [Nephritis_Of_RPO]  0.416667    0.714286  1.714286\n",
       "9     [Nephritis_Of_RPO]         [Lumbar_Pain]  0.416667    1.000000  1.714286\n",
       "24     [Urethra_Burning]       [Urine_Pushing]  0.416667    1.000000  1.500000\n",
       "25       [Urine_Pushing]     [Urethra_Burning]  0.416667    0.625000  1.500000\n",
       "2   [Inflammation_Of_UB]   [Micturition_Pains]  0.408333    0.830508  1.689170\n",
       "3    [Micturition_Pains]  [Inflammation_Of_UB]  0.408333    0.830508  1.689170\n",
       "16   [Micturition_Pains]       [Urine_Pushing]  0.408333    0.830508  1.245763\n",
       "17       [Urine_Pushing]   [Micturition_Pains]  0.408333    0.612500  1.245763"
      ]
     },
     "execution_count": 18,
     "metadata": {},
     "output_type": "execute_result"
    }
   ],
   "source": [
    "#using a lambda function to filter out those rules which have an empty list in the LHS column of the Data Frame\n",
    "rules_df[rules_df['LHS'].apply(lambda x: len(x) > 0)].nlargest(10,\"Support\")"
   ]
  },
  {
   "cell_type": "code",
   "execution_count": 19,
   "metadata": {},
   "outputs": [
    {
     "data": {
      "text/plain": [
       "28"
      ]
     },
     "execution_count": 19,
     "metadata": {},
     "output_type": "execute_result"
    }
   ],
   "source": [
    "#Reducing number of rules by decreasing the number of maximum itemset, setting length at 3\n",
    "#then run the rule again, creating an association rule on the main dataset\n",
    "Rules = list(apriori(patients, min_support=0.30,min_confidence=0.50,max_length=3))\n",
    "associationRules = utils.extract(Rules)\n",
    "rules_df=pd.DataFrame(associationRules,columns=['LHS','RHS','Support','Confidence','Lift'])\n",
    "len(rules_df)"
   ]
  },
  {
   "cell_type": "code",
   "execution_count": 20,
   "metadata": {},
   "outputs": [
    {
     "data": {
      "text/html": [
       "<div>\n",
       "<style scoped>\n",
       "    .dataframe tbody tr th:only-of-type {\n",
       "        vertical-align: middle;\n",
       "    }\n",
       "\n",
       "    .dataframe tbody tr th {\n",
       "        vertical-align: top;\n",
       "    }\n",
       "\n",
       "    .dataframe thead th {\n",
       "        text-align: right;\n",
       "    }\n",
       "</style>\n",
       "<table border=\"1\" class=\"dataframe\">\n",
       "  <thead>\n",
       "    <tr style=\"text-align: right;\">\n",
       "      <th></th>\n",
       "      <th>LHS</th>\n",
       "      <th>RHS</th>\n",
       "      <th>Support</th>\n",
       "      <th>Confidence</th>\n",
       "      <th>Lift</th>\n",
       "    </tr>\n",
       "  </thead>\n",
       "  <tbody>\n",
       "    <tr>\n",
       "      <th>23</th>\n",
       "      <td>[Nephritis_Of_RPO]</td>\n",
       "      <td>[Lumbar_Pain, Urine_Pushing]</td>\n",
       "      <td>0.333333</td>\n",
       "      <td>0.800000</td>\n",
       "      <td>2.400000</td>\n",
       "    </tr>\n",
       "    <tr>\n",
       "      <th>26</th>\n",
       "      <td>[Lumbar_Pain, Urine_Pushing]</td>\n",
       "      <td>[Nephritis_Of_RPO]</td>\n",
       "      <td>0.333333</td>\n",
       "      <td>1.000000</td>\n",
       "      <td>2.400000</td>\n",
       "    </tr>\n",
       "    <tr>\n",
       "      <th>16</th>\n",
       "      <td>[Inflammation_Of_UB]</td>\n",
       "      <td>[Urine_Pushing, Micturition_Pains]</td>\n",
       "      <td>0.408333</td>\n",
       "      <td>0.830508</td>\n",
       "      <td>2.033898</td>\n",
       "    </tr>\n",
       "    <tr>\n",
       "      <th>21</th>\n",
       "      <td>[Urine_Pushing, Micturition_Pains]</td>\n",
       "      <td>[Inflammation_Of_UB]</td>\n",
       "      <td>0.408333</td>\n",
       "      <td>1.000000</td>\n",
       "      <td>2.033898</td>\n",
       "    </tr>\n",
       "    <tr>\n",
       "      <th>6</th>\n",
       "      <td>[Lumbar_Pain]</td>\n",
       "      <td>[Nephritis_Of_RPO]</td>\n",
       "      <td>0.416667</td>\n",
       "      <td>0.714286</td>\n",
       "      <td>1.714286</td>\n",
       "    </tr>\n",
       "    <tr>\n",
       "      <th>7</th>\n",
       "      <td>[Nephritis_Of_RPO]</td>\n",
       "      <td>[Lumbar_Pain]</td>\n",
       "      <td>0.416667</td>\n",
       "      <td>1.000000</td>\n",
       "      <td>1.714286</td>\n",
       "    </tr>\n",
       "    <tr>\n",
       "      <th>22</th>\n",
       "      <td>[Lumbar_Pain]</td>\n",
       "      <td>[Nephritis_Of_RPO, Urine_Pushing]</td>\n",
       "      <td>0.333333</td>\n",
       "      <td>0.571429</td>\n",
       "      <td>1.714286</td>\n",
       "    </tr>\n",
       "    <tr>\n",
       "      <th>27</th>\n",
       "      <td>[Nephritis_Of_RPO, Urine_Pushing]</td>\n",
       "      <td>[Lumbar_Pain]</td>\n",
       "      <td>0.333333</td>\n",
       "      <td>1.000000</td>\n",
       "      <td>1.714286</td>\n",
       "    </tr>\n",
       "    <tr>\n",
       "      <th>2</th>\n",
       "      <td>[Inflammation_Of_UB]</td>\n",
       "      <td>[Micturition_Pains]</td>\n",
       "      <td>0.408333</td>\n",
       "      <td>0.830508</td>\n",
       "      <td>1.689170</td>\n",
       "    </tr>\n",
       "    <tr>\n",
       "      <th>3</th>\n",
       "      <td>[Micturition_Pains]</td>\n",
       "      <td>[Inflammation_Of_UB]</td>\n",
       "      <td>0.408333</td>\n",
       "      <td>0.830508</td>\n",
       "      <td>1.689170</td>\n",
       "    </tr>\n",
       "  </tbody>\n",
       "</table>\n",
       "</div>"
      ],
      "text/plain": [
       "                                   LHS                                 RHS  \\\n",
       "23                  [Nephritis_Of_RPO]        [Lumbar_Pain, Urine_Pushing]   \n",
       "26        [Lumbar_Pain, Urine_Pushing]                  [Nephritis_Of_RPO]   \n",
       "16                [Inflammation_Of_UB]  [Urine_Pushing, Micturition_Pains]   \n",
       "21  [Urine_Pushing, Micturition_Pains]                [Inflammation_Of_UB]   \n",
       "6                        [Lumbar_Pain]                  [Nephritis_Of_RPO]   \n",
       "7                   [Nephritis_Of_RPO]                       [Lumbar_Pain]   \n",
       "22                       [Lumbar_Pain]   [Nephritis_Of_RPO, Urine_Pushing]   \n",
       "27   [Nephritis_Of_RPO, Urine_Pushing]                       [Lumbar_Pain]   \n",
       "2                 [Inflammation_Of_UB]                 [Micturition_Pains]   \n",
       "3                  [Micturition_Pains]                [Inflammation_Of_UB]   \n",
       "\n",
       "     Support  Confidence      Lift  \n",
       "23  0.333333    0.800000  2.400000  \n",
       "26  0.333333    1.000000  2.400000  \n",
       "16  0.408333    0.830508  2.033898  \n",
       "21  0.408333    1.000000  2.033898  \n",
       "6   0.416667    0.714286  1.714286  \n",
       "7   0.416667    1.000000  1.714286  \n",
       "22  0.333333    0.571429  1.714286  \n",
       "27  0.333333    1.000000  1.714286  \n",
       "2   0.408333    0.830508  1.689170  \n",
       "3   0.408333    0.830508  1.689170  "
      ]
     },
     "execution_count": 20,
     "metadata": {},
     "output_type": "execute_result"
    }
   ],
   "source": [
    "#having a modified rule that can be used, we can now explore the rules with highest lift support and confidence\n",
    "rules_df.nlargest(10,\"Lift\")"
   ]
  },
  {
   "cell_type": "code",
   "execution_count": 21,
   "metadata": {},
   "outputs": [
    {
     "data": {
      "text/html": [
       "<div>\n",
       "<style scoped>\n",
       "    .dataframe tbody tr th:only-of-type {\n",
       "        vertical-align: middle;\n",
       "    }\n",
       "\n",
       "    .dataframe tbody tr th {\n",
       "        vertical-align: top;\n",
       "    }\n",
       "\n",
       "    .dataframe thead th {\n",
       "        text-align: right;\n",
       "    }\n",
       "</style>\n",
       "<table border=\"1\" class=\"dataframe\">\n",
       "  <thead>\n",
       "    <tr style=\"text-align: right;\">\n",
       "      <th></th>\n",
       "      <th>LHS</th>\n",
       "      <th>RHS</th>\n",
       "      <th>Support</th>\n",
       "      <th>Confidence</th>\n",
       "      <th>Lift</th>\n",
       "    </tr>\n",
       "  </thead>\n",
       "  <tbody>\n",
       "    <tr>\n",
       "      <th>1</th>\n",
       "      <td>[]</td>\n",
       "      <td>[Urine_Pushing]</td>\n",
       "      <td>0.666667</td>\n",
       "      <td>0.666667</td>\n",
       "      <td>1.000000</td>\n",
       "    </tr>\n",
       "    <tr>\n",
       "      <th>0</th>\n",
       "      <td>[]</td>\n",
       "      <td>[Lumbar_Pain]</td>\n",
       "      <td>0.583333</td>\n",
       "      <td>0.583333</td>\n",
       "      <td>1.000000</td>\n",
       "    </tr>\n",
       "    <tr>\n",
       "      <th>4</th>\n",
       "      <td>[Inflammation_Of_UB]</td>\n",
       "      <td>[Urine_Pushing]</td>\n",
       "      <td>0.491667</td>\n",
       "      <td>1.000000</td>\n",
       "      <td>1.500000</td>\n",
       "    </tr>\n",
       "    <tr>\n",
       "      <th>5</th>\n",
       "      <td>[Urine_Pushing]</td>\n",
       "      <td>[Inflammation_Of_UB]</td>\n",
       "      <td>0.491667</td>\n",
       "      <td>0.737500</td>\n",
       "      <td>1.500000</td>\n",
       "    </tr>\n",
       "    <tr>\n",
       "      <th>6</th>\n",
       "      <td>[Lumbar_Pain]</td>\n",
       "      <td>[Nephritis_Of_RPO]</td>\n",
       "      <td>0.416667</td>\n",
       "      <td>0.714286</td>\n",
       "      <td>1.714286</td>\n",
       "    </tr>\n",
       "    <tr>\n",
       "      <th>7</th>\n",
       "      <td>[Nephritis_Of_RPO]</td>\n",
       "      <td>[Lumbar_Pain]</td>\n",
       "      <td>0.416667</td>\n",
       "      <td>1.000000</td>\n",
       "      <td>1.714286</td>\n",
       "    </tr>\n",
       "    <tr>\n",
       "      <th>14</th>\n",
       "      <td>[Urethra_Burning]</td>\n",
       "      <td>[Urine_Pushing]</td>\n",
       "      <td>0.416667</td>\n",
       "      <td>1.000000</td>\n",
       "      <td>1.500000</td>\n",
       "    </tr>\n",
       "    <tr>\n",
       "      <th>15</th>\n",
       "      <td>[Urine_Pushing]</td>\n",
       "      <td>[Urethra_Burning]</td>\n",
       "      <td>0.416667</td>\n",
       "      <td>0.625000</td>\n",
       "      <td>1.500000</td>\n",
       "    </tr>\n",
       "    <tr>\n",
       "      <th>2</th>\n",
       "      <td>[Inflammation_Of_UB]</td>\n",
       "      <td>[Micturition_Pains]</td>\n",
       "      <td>0.408333</td>\n",
       "      <td>0.830508</td>\n",
       "      <td>1.689170</td>\n",
       "    </tr>\n",
       "    <tr>\n",
       "      <th>3</th>\n",
       "      <td>[Micturition_Pains]</td>\n",
       "      <td>[Inflammation_Of_UB]</td>\n",
       "      <td>0.408333</td>\n",
       "      <td>0.830508</td>\n",
       "      <td>1.689170</td>\n",
       "    </tr>\n",
       "  </tbody>\n",
       "</table>\n",
       "</div>"
      ],
      "text/plain": [
       "                     LHS                   RHS   Support  Confidence      Lift\n",
       "1                     []       [Urine_Pushing]  0.666667    0.666667  1.000000\n",
       "0                     []         [Lumbar_Pain]  0.583333    0.583333  1.000000\n",
       "4   [Inflammation_Of_UB]       [Urine_Pushing]  0.491667    1.000000  1.500000\n",
       "5        [Urine_Pushing]  [Inflammation_Of_UB]  0.491667    0.737500  1.500000\n",
       "6          [Lumbar_Pain]    [Nephritis_Of_RPO]  0.416667    0.714286  1.714286\n",
       "7     [Nephritis_Of_RPO]         [Lumbar_Pain]  0.416667    1.000000  1.714286\n",
       "14     [Urethra_Burning]       [Urine_Pushing]  0.416667    1.000000  1.500000\n",
       "15       [Urine_Pushing]     [Urethra_Burning]  0.416667    0.625000  1.500000\n",
       "2   [Inflammation_Of_UB]   [Micturition_Pains]  0.408333    0.830508  1.689170\n",
       "3    [Micturition_Pains]  [Inflammation_Of_UB]  0.408333    0.830508  1.689170"
      ]
     },
     "execution_count": 21,
     "metadata": {},
     "output_type": "execute_result"
    }
   ],
   "source": [
    "rules_df.nlargest(10,\"Support\")"
   ]
  },
  {
   "cell_type": "code",
   "execution_count": 22,
   "metadata": {},
   "outputs": [
    {
     "data": {
      "text/html": [
       "<div>\n",
       "<style scoped>\n",
       "    .dataframe tbody tr th:only-of-type {\n",
       "        vertical-align: middle;\n",
       "    }\n",
       "\n",
       "    .dataframe tbody tr th {\n",
       "        vertical-align: top;\n",
       "    }\n",
       "\n",
       "    .dataframe thead th {\n",
       "        text-align: right;\n",
       "    }\n",
       "</style>\n",
       "<table border=\"1\" class=\"dataframe\">\n",
       "  <thead>\n",
       "    <tr style=\"text-align: right;\">\n",
       "      <th></th>\n",
       "      <th>LHS</th>\n",
       "      <th>RHS</th>\n",
       "      <th>Support</th>\n",
       "      <th>Confidence</th>\n",
       "      <th>Lift</th>\n",
       "    </tr>\n",
       "  </thead>\n",
       "  <tbody>\n",
       "    <tr>\n",
       "      <th>4</th>\n",
       "      <td>[Inflammation_Of_UB]</td>\n",
       "      <td>[Urine_Pushing]</td>\n",
       "      <td>0.491667</td>\n",
       "      <td>1.000000</td>\n",
       "      <td>1.500000</td>\n",
       "    </tr>\n",
       "    <tr>\n",
       "      <th>7</th>\n",
       "      <td>[Nephritis_Of_RPO]</td>\n",
       "      <td>[Lumbar_Pain]</td>\n",
       "      <td>0.416667</td>\n",
       "      <td>1.000000</td>\n",
       "      <td>1.714286</td>\n",
       "    </tr>\n",
       "    <tr>\n",
       "      <th>14</th>\n",
       "      <td>[Urethra_Burning]</td>\n",
       "      <td>[Urine_Pushing]</td>\n",
       "      <td>0.416667</td>\n",
       "      <td>1.000000</td>\n",
       "      <td>1.500000</td>\n",
       "    </tr>\n",
       "    <tr>\n",
       "      <th>19</th>\n",
       "      <td>[Inflammation_Of_UB, Micturition_Pains]</td>\n",
       "      <td>[Urine_Pushing]</td>\n",
       "      <td>0.408333</td>\n",
       "      <td>1.000000</td>\n",
       "      <td>1.500000</td>\n",
       "    </tr>\n",
       "    <tr>\n",
       "      <th>21</th>\n",
       "      <td>[Urine_Pushing, Micturition_Pains]</td>\n",
       "      <td>[Inflammation_Of_UB]</td>\n",
       "      <td>0.408333</td>\n",
       "      <td>1.000000</td>\n",
       "      <td>2.033898</td>\n",
       "    </tr>\n",
       "    <tr>\n",
       "      <th>26</th>\n",
       "      <td>[Lumbar_Pain, Urine_Pushing]</td>\n",
       "      <td>[Nephritis_Of_RPO]</td>\n",
       "      <td>0.333333</td>\n",
       "      <td>1.000000</td>\n",
       "      <td>2.400000</td>\n",
       "    </tr>\n",
       "    <tr>\n",
       "      <th>27</th>\n",
       "      <td>[Nephritis_Of_RPO, Urine_Pushing]</td>\n",
       "      <td>[Lumbar_Pain]</td>\n",
       "      <td>0.333333</td>\n",
       "      <td>1.000000</td>\n",
       "      <td>1.714286</td>\n",
       "    </tr>\n",
       "    <tr>\n",
       "      <th>2</th>\n",
       "      <td>[Inflammation_Of_UB]</td>\n",
       "      <td>[Micturition_Pains]</td>\n",
       "      <td>0.408333</td>\n",
       "      <td>0.830508</td>\n",
       "      <td>1.689170</td>\n",
       "    </tr>\n",
       "    <tr>\n",
       "      <th>3</th>\n",
       "      <td>[Micturition_Pains]</td>\n",
       "      <td>[Inflammation_Of_UB]</td>\n",
       "      <td>0.408333</td>\n",
       "      <td>0.830508</td>\n",
       "      <td>1.689170</td>\n",
       "    </tr>\n",
       "    <tr>\n",
       "      <th>10</th>\n",
       "      <td>[Micturition_Pains]</td>\n",
       "      <td>[Urine_Pushing]</td>\n",
       "      <td>0.408333</td>\n",
       "      <td>0.830508</td>\n",
       "      <td>1.245763</td>\n",
       "    </tr>\n",
       "  </tbody>\n",
       "</table>\n",
       "</div>"
      ],
      "text/plain": [
       "                                        LHS                   RHS   Support  \\\n",
       "4                      [Inflammation_Of_UB]       [Urine_Pushing]  0.491667   \n",
       "7                        [Nephritis_Of_RPO]         [Lumbar_Pain]  0.416667   \n",
       "14                        [Urethra_Burning]       [Urine_Pushing]  0.416667   \n",
       "19  [Inflammation_Of_UB, Micturition_Pains]       [Urine_Pushing]  0.408333   \n",
       "21       [Urine_Pushing, Micturition_Pains]  [Inflammation_Of_UB]  0.408333   \n",
       "26             [Lumbar_Pain, Urine_Pushing]    [Nephritis_Of_RPO]  0.333333   \n",
       "27        [Nephritis_Of_RPO, Urine_Pushing]         [Lumbar_Pain]  0.333333   \n",
       "2                      [Inflammation_Of_UB]   [Micturition_Pains]  0.408333   \n",
       "3                       [Micturition_Pains]  [Inflammation_Of_UB]  0.408333   \n",
       "10                      [Micturition_Pains]       [Urine_Pushing]  0.408333   \n",
       "\n",
       "    Confidence      Lift  \n",
       "4     1.000000  1.500000  \n",
       "7     1.000000  1.714286  \n",
       "14    1.000000  1.500000  \n",
       "19    1.000000  1.500000  \n",
       "21    1.000000  2.033898  \n",
       "26    1.000000  2.400000  \n",
       "27    1.000000  1.714286  \n",
       "2     0.830508  1.689170  \n",
       "3     0.830508  1.689170  \n",
       "10    0.830508  1.245763  "
      ]
     },
     "execution_count": 22,
     "metadata": {},
     "output_type": "execute_result"
    }
   ],
   "source": [
    "rules_df.nlargest(10,\"Confidence\")"
   ]
  },
  {
   "cell_type": "code",
   "execution_count": 23,
   "metadata": {},
   "outputs": [
    {
     "data": {
      "image/png": "[encoded data removed]",
      "text/plain": [
       "<Figure size 432x288 with 1 Axes>"
      ]
     },
     "metadata": {
      "needs_background": "light"
     },
     "output_type": "display_data"
    }
   ],
   "source": [
    "#indepth investigation of the dataset using barchart\n",
    "ax=diagnosed.plot.bar()\n",
    "plt.show()"
   ]
  },
  {
   "cell_type": "code",
   "execution_count": 28,
   "metadata": {},
   "outputs": [
    {
     "name": "stdout",
     "output_type": "stream",
     "text": [
      "The number of associated rules: 6\n",
      "LHS: ['Inflammation_Of_UB'] --> RHS:['Urine_Pushing'], support: 0.49, confidence: 1.00, lift: 1.50\n",
      "--------------------------------------------------------------------------------\n",
      "LHS: ['Micturition_Pains'] --> RHS:['Urine_Pushing'], support: 0.41, confidence: 0.83, lift: 1.25\n",
      "--------------------------------------------------------------------------------\n",
      "LHS: ['Urethra_Burning'] --> RHS:['Urine_Pushing'], support: 0.42, confidence: 1.00, lift: 1.50\n",
      "--------------------------------------------------------------------------------\n",
      "LHS: ['Inflammation_Of_UB'] --> RHS:['Urine_Pushing', 'Micturition_Pains'], support: 0.41, confidence: 0.83, lift: 2.03\n",
      "--------------------------------------------------------------------------------\n",
      "LHS: ['Micturition_Pains'] --> RHS:['Inflammation_Of_UB', 'Urine_Pushing'], support: 0.41, confidence: 0.83, lift: 1.69\n",
      "--------------------------------------------------------------------------------\n",
      "LHS: ['Inflammation_Of_UB', 'Micturition_Pains'] --> RHS:['Urine_Pushing'], support: 0.41, confidence: 1.00, lift: 1.50\n",
      "--------------------------------------------------------------------------------\n"
     ]
    }
   ],
   "source": [
    "#In this plot Urine_Pushing is the most common diagnosis. Here there is need to see the rules where patients are diagnosed of such ailment, \n",
    "#Getting the rules for Urine_Pushing, code below was used: with an increased minimun confidence @50% to yield more rules, the lower the better\n",
    "Rules = list(apriori(patients, min_support=0.40,min_confidence=0.50))\n",
    "associationRules = utils.extract(Rules, 'Urine_Pushing',2)\n",
    "utils.inspect(associationRules)"
   ]
  },
  {
   "cell_type": "code",
   "execution_count": 25,
   "metadata": {},
   "outputs": [],
   "source": [
    "#!pip install plotly==5.10.0\n",
    "#Using plotly to visualzize result"
   ]
  },
  {
   "cell_type": "code",
   "execution_count": 29,
   "metadata": {},
   "outputs": [
    {
     "data": {
      "application/vnd.plotly.v1+json": {
       "config": {
        "plotlyServerURL": "https://plot.ly"
       },
       "data": [
        {
         "customdata": [
          [
           [
            "Inflammation_Of_UB"
           ],
           [
            "Urine_Pushing"
           ]
          ],
          [
           [
            "Micturition_Pains"
           ],
           [
            "Urine_Pushing"
           ]
          ],
          [
           [
            "Urethra_Burning"
           ],
           [
            "Urine_Pushing"
           ]
          ],
          [
           [
            "Inflammation_Of_UB"
           ],
           [
            "Urine_Pushing",
            "Micturition_Pains"
           ]
          ],
          [
           [
            "Micturition_Pains"
           ],
           [
            "Inflammation_Of_UB",
            "Urine_Pushing"
           ]
          ],
          [
           [
            "Inflammation_Of_UB",
            "Micturition_Pains"
           ],
           [
            "Urine_Pushing"
           ]
          ]
         ],
         "hovertemplate": "Support=%{x}<br>Confidence=%{y}<br>LHS=%{customdata[0]}<br>RHS=%{customdata[1]}<br>Lift=%{marker.color}<extra></extra>",
         "legendgroup": "",
         "marker": {
          "color": [
           1.5,
           1.2457627118644068,
           1.5,
           2.0338983050847457,
           1.6891697787991957,
           1.5
          ],
          "coloraxis": "coloraxis",
          "symbol": "circle"
         },
         "mode": "markers",
         "name": "",
         "orientation": "v",
         "showlegend": false,
         "type": "scatter",
         "x": [
          0.49166666666666664,
          0.4083333333333333,
          0.4166666666666667,
          0.4083333333333333,
          0.4083333333333333,
          0.4083333333333333
         ],
         "xaxis": "x",
         "y": [
          1,
          0.8305084745762712,
          1,
          0.8305084745762712,
          0.8305084745762712,
          1
         ],
         "yaxis": "y"
        }
       ],
       "layout": {
        "coloraxis": {
         "colorbar": {
          "title": {
           "text": "Lift"
          }
         },
         "colorscale": [
          [
           0,
           "rgb(75, 41, 145)"
          ],
          [
           0.16666666666666666,
           "rgb(135, 44, 162)"
          ],
          [
           0.3333333333333333,
           "rgb(192, 54, 157)"
          ],
          [
           0.5,
           "rgb(234, 79, 136)"
          ],
          [
           0.6666666666666666,
           "rgb(250, 120, 118)"
          ],
          [
           0.8333333333333334,
           "rgb(246, 169, 122)"
          ],
          [
           1,
           "rgb(237, 217, 163)"
          ]
         ]
        },
        "legend": {
         "tracegroupgap": 0
        },
        "margin": {
         "t": 60
        },
        "template": {
         "data": {
          "bar": [
           {
            "error_x": {
             "color": "#2a3f5f"
            },
            "error_y": {
             "color": "#2a3f5f"
            },
            "marker": {
             "line": {
              "color": "#E5ECF6",
              "width": 0.5
             },
             "pattern": {
              "fillmode": "overlay",
              "size": 10,
              "solidity": 0.2
             }
            },
            "type": "bar"
           }
          ],
          "barpolar": [
           {
            "marker": {
             "line": {
              "color": "#E5ECF6",
              "width": 0.5
             },
             "pattern": {
              "fillmode": "overlay",
              "size": 10,
              "solidity": 0.2
             }
            },
            "type": "barpolar"
           }
          ],
          "carpet": [
           {
            "aaxis": {
             "endlinecolor": "#2a3f5f",
             "gridcolor": "white",
             "linecolor": "white",
             "minorgridcolor": "white",
             "startlinecolor": "#2a3f5f"
            },
            "baxis": {
             "endlinecolor": "#2a3f5f",
             "gridcolor": "white",
             "linecolor": "white",
             "minorgridcolor": "white",
             "startlinecolor": "#2a3f5f"
            },
            "type": "carpet"
           }
          ],
          "choropleth": [
           {
            "colorbar": {
             "outlinewidth": 0,
             "ticks": ""
            },
            "type": "choropleth"
           }
          ],
          "contour": [
           {
            "colorbar": {
             "outlinewidth": 0,
             "ticks": ""
            },
            "colorscale": [
             [
              0,
              "#0d0887"
             ],
             [
              0.1111111111111111,
              "#46039f"
             ],
             [
              0.2222222222222222,
              "#7201a8"
             ],
             [
              0.3333333333333333,
              "#9c179e"
             ],
             [
              0.4444444444444444,
              "#bd3786"
             ],
             [
              0.5555555555555556,
              "#d8576b"
             ],
             [
              0.6666666666666666,
              "#ed7953"
             ],
             [
              0.7777777777777778,
              "#fb9f3a"
             ],
             [
              0.8888888888888888,
              "#fdca26"
             ],
             [
              1,
              "#f0f921"
             ]
            ],
            "type": "contour"
           }
          ],
          "contourcarpet": [
           {
            "colorbar": {
             "outlinewidth": 0,
             "ticks": ""
            },
            "type": "contourcarpet"
           }
          ],
          "heatmap": [
           {
            "colorbar": {
             "outlinewidth": 0,
             "ticks": ""
            },
            "colorscale": [
             [
              0,
              "#0d0887"
             ],
             [
              0.1111111111111111,
              "#46039f"
             ],
             [
              0.2222222222222222,
              "#7201a8"
             ],
             [
              0.3333333333333333,
              "#9c179e"
             ],
             [
              0.4444444444444444,
              "#bd3786"
             ],
             [
              0.5555555555555556,
              "#d8576b"
             ],
             [
              0.6666666666666666,
              "#ed7953"
             ],
             [
              0.7777777777777778,
              "#fb9f3a"
             ],
             [
              0.8888888888888888,
              "#fdca26"
             ],
             [
              1,
              "#f0f921"
             ]
            ],
            "type": "heatmap"
           }
          ],
          "heatmapgl": [
           {
            "colorbar": {
             "outlinewidth": 0,
             "ticks": ""
            },
            "colorscale": [
             [
              0,
              "#0d0887"
             ],
             [
              0.1111111111111111,
              "#46039f"
             ],
             [
              0.2222222222222222,
              "#7201a8"
             ],
             [
              0.3333333333333333,
              "#9c179e"
             ],
             [
              0.4444444444444444,
              "#bd3786"
             ],
             [
              0.5555555555555556,
              "#d8576b"
             ],
             [
              0.6666666666666666,
              "#ed7953"
             ],
             [
              0.7777777777777778,
              "#fb9f3a"
             ],
             [
              0.8888888888888888,
              "#fdca26"
             ],
             [
              1,
              "#f0f921"
             ]
            ],
            "type": "heatmapgl"
           }
          ],
          "histogram": [
           {
            "marker": {
             "pattern": {
              "fillmode": "overlay",
              "size": 10,
              "solidity": 0.2
             }
            },
            "type": "histogram"
           }
          ],
          "histogram2d": [
           {
            "colorbar": {
             "outlinewidth": 0,
             "ticks": ""
            },
            "colorscale": [
             [
              0,
              "#0d0887"
             ],
             [
              0.1111111111111111,
              "#46039f"
             ],
             [
              0.2222222222222222,
              "#7201a8"
             ],
             [
              0.3333333333333333,
              "#9c179e"
             ],
             [
              0.4444444444444444,
              "#bd3786"
             ],
             [
              0.5555555555555556,
              "#d8576b"
             ],
             [
              0.6666666666666666,
              "#ed7953"
             ],
             [
              0.7777777777777778,
              "#fb9f3a"
             ],
             [
              0.8888888888888888,
              "#fdca26"
             ],
             [
              1,
              "#f0f921"
             ]
            ],
            "type": "histogram2d"
           }
          ],
          "histogram2dcontour": [
           {
            "colorbar": {
             "outlinewidth": 0,
             "ticks": ""
            },
            "colorscale": [
             [
              0,
              "#0d0887"
             ],
             [
              0.1111111111111111,
              "#46039f"
             ],
             [
              0.2222222222222222,
              "#7201a8"
             ],
             [
              0.3333333333333333,
              "#9c179e"
             ],
             [
              0.4444444444444444,
              "#bd3786"
             ],
             [
              0.5555555555555556,
              "#d8576b"
             ],
             [
              0.6666666666666666,
              "#ed7953"
             ],
             [
              0.7777777777777778,
              "#fb9f3a"
             ],
             [
              0.8888888888888888,
              "#fdca26"
             ],
             [
              1,
              "#f0f921"
             ]
            ],
            "type": "histogram2dcontour"
           }
          ],
          "mesh3d": [
           {
            "colorbar": {
             "outlinewidth": 0,
             "ticks": ""
            },
            "type": "mesh3d"
           }
          ],
          "parcoords": [
           {
            "line": {
             "colorbar": {
              "outlinewidth": 0,
              "ticks": ""
             }
            },
            "type": "parcoords"
           }
          ],
          "pie": [
           {
            "automargin": true,
            "type": "pie"
           }
          ],
          "scatter": [
           {
            "fillpattern": {
             "fillmode": "overlay",
             "size": 10,
             "solidity": 0.2
            },
            "type": "scatter"
           }
          ],
          "scatter3d": [
           {
            "line": {
             "colorbar": {
              "outlinewidth": 0,
              "ticks": ""
             }
            },
            "marker": {
             "colorbar": {
              "outlinewidth": 0,
              "ticks": ""
             }
            },
            "type": "scatter3d"
           }
          ],
          "scattercarpet": [
           {
            "marker": {
             "colorbar": {
              "outlinewidth": 0,
              "ticks": ""
             }
            },
            "type": "scattercarpet"
           }
          ],
          "scattergeo": [
           {
            "marker": {
             "colorbar": {
              "outlinewidth": 0,
              "ticks": ""
             }
            },
            "type": "scattergeo"
           }
          ],
          "scattergl": [
           {
            "marker": {
             "colorbar": {
              "outlinewidth": 0,
              "ticks": ""
             }
            },
            "type": "scattergl"
           }
          ],
          "scattermapbox": [
           {
            "marker": {
             "colorbar": {
              "outlinewidth": 0,
              "ticks": ""
             }
            },
            "type": "scattermapbox"
           }
          ],
          "scatterpolar": [
           {
            "marker": {
             "colorbar": {
              "outlinewidth": 0,
              "ticks": ""
             }
            },
            "type": "scatterpolar"
           }
          ],
          "scatterpolargl": [
           {
            "marker": {
             "colorbar": {
              "outlinewidth": 0,
              "ticks": ""
             }
            },
            "type": "scatterpolargl"
           }
          ],
          "scatterternary": [
           {
            "marker": {
             "colorbar": {
              "outlinewidth": 0,
              "ticks": ""
             }
            },
            "type": "scatterternary"
           }
          ],
          "surface": [
           {
            "colorbar": {
             "outlinewidth": 0,
             "ticks": ""
            },
            "colorscale": [
             [
              0,
              "#0d0887"
             ],
             [
              0.1111111111111111,
              "#46039f"
             ],
             [
              0.2222222222222222,
              "#7201a8"
             ],
             [
              0.3333333333333333,
              "#9c179e"
             ],
             [
              0.4444444444444444,
              "#bd3786"
             ],
             [
              0.5555555555555556,
              "#d8576b"
             ],
             [
              0.6666666666666666,
              "#ed7953"
             ],
             [
              0.7777777777777778,
              "#fb9f3a"
             ],
             [
              0.8888888888888888,
              "#fdca26"
             ],
             [
              1,
              "#f0f921"
             ]
            ],
            "type": "surface"
           }
          ],
          "table": [
           {
            "cells": {
             "fill": {
              "color": "#EBF0F8"
             },
             "line": {
              "color": "white"
             }
            },
            "header": {
             "fill": {
              "color": "#C8D4E3"
             },
             "line": {
              "color": "white"
             }
            },
            "type": "table"
           }
          ]
         },
         "layout": {
          "annotationdefaults": {
           "arrowcolor": "#2a3f5f",
           "arrowhead": 0,
           "arrowwidth": 1
          },
          "autotypenumbers": "strict",
          "coloraxis": {
           "colorbar": {
            "outlinewidth": 0,
            "ticks": ""
           }
          },
          "colorscale": {
           "diverging": [
            [
             0,
             "#8e0152"
            ],
            [
             0.1,
             "#c51b7d"
            ],
            [
             0.2,
             "#de77ae"
            ],
            [
             0.3,
             "#f1b6da"
            ],
            [
             0.4,
             "#fde0ef"
            ],
            [
             0.5,
             "#f7f7f7"
            ],
            [
             0.6,
             "#e6f5d0"
            ],
            [
             0.7,
             "#b8e186"
            ],
            [
             0.8,
             "#7fbc41"
            ],
            [
             0.9,
             "#4d9221"
            ],
            [
             1,
             "#276419"
            ]
           ],
           "sequential": [
            [
             0,
             "#0d0887"
            ],
            [
             0.1111111111111111,
             "#46039f"
            ],
            [
             0.2222222222222222,
             "#7201a8"
            ],
            [
             0.3333333333333333,
             "#9c179e"
            ],
            [
             0.4444444444444444,
             "#bd3786"
            ],
            [
             0.5555555555555556,
             "#d8576b"
            ],
            [
             0.6666666666666666,
             "#ed7953"
            ],
            [
             0.7777777777777778,
             "#fb9f3a"
            ],
            [
             0.8888888888888888,
             "#fdca26"
            ],
            [
             1,
             "#f0f921"
            ]
           ],
           "sequentialminus": [
            [
             0,
             "#0d0887"
            ],
            [
             0.1111111111111111,
             "#46039f"
            ],
            [
             0.2222222222222222,
             "#7201a8"
            ],
            [
             0.3333333333333333,
             "#9c179e"
            ],
            [
             0.4444444444444444,
             "#bd3786"
            ],
            [
             0.5555555555555556,
             "#d8576b"
            ],
            [
             0.6666666666666666,
             "#ed7953"
            ],
            [
             0.7777777777777778,
             "#fb9f3a"
            ],
            [
             0.8888888888888888,
             "#fdca26"
            ],
            [
             1,
             "#f0f921"
            ]
           ]
          },
          "colorway": [
           "#636efa",
           "#EF553B",
           "#00cc96",
           "#ab63fa",
           "#FFA15A",
           "#19d3f3",
           "#FF6692",
           "#B6E880",
           "#FF97FF",
           "#FECB52"
          ],
          "font": {
           "color": "#2a3f5f"
          },
          "geo": {
           "bgcolor": "white",
           "lakecolor": "white",
           "landcolor": "#E5ECF6",
           "showlakes": true,
           "showland": true,
           "subunitcolor": "white"
          },
          "hoverlabel": {
           "align": "left"
          },
          "hovermode": "closest",
          "mapbox": {
           "style": "light"
          },
          "paper_bgcolor": "white",
          "plot_bgcolor": "#E5ECF6",
          "polar": {
           "angularaxis": {
            "gridcolor": "white",
            "linecolor": "white",
            "ticks": ""
           },
           "bgcolor": "#E5ECF6",
           "radialaxis": {
            "gridcolor": "white",
            "linecolor": "white",
            "ticks": ""
           }
          },
          "scene": {
           "xaxis": {
            "backgroundcolor": "#E5ECF6",
            "gridcolor": "white",
            "gridwidth": 2,
            "linecolor": "white",
            "showbackground": true,
            "ticks": "",
            "zerolinecolor": "white"
           },
           "yaxis": {
            "backgroundcolor": "#E5ECF6",
            "gridcolor": "white",
            "gridwidth": 2,
            "linecolor": "white",
            "showbackground": true,
            "ticks": "",
            "zerolinecolor": "white"
           },
           "zaxis": {
            "backgroundcolor": "#E5ECF6",
            "gridcolor": "white",
            "gridwidth": 2,
            "linecolor": "white",
            "showbackground": true,
            "ticks": "",
            "zerolinecolor": "white"
           }
          },
          "shapedefaults": {
           "line": {
            "color": "#2a3f5f"
           }
          },
          "ternary": {
           "aaxis": {
            "gridcolor": "white",
            "linecolor": "white",
            "ticks": ""
           },
           "baxis": {
            "gridcolor": "white",
            "linecolor": "white",
            "ticks": ""
           },
           "bgcolor": "#E5ECF6",
           "caxis": {
            "gridcolor": "white",
            "linecolor": "white",
            "ticks": ""
           }
          },
          "title": {
           "x": 0.05
          },
          "xaxis": {
           "automargin": true,
           "gridcolor": "white",
           "linecolor": "white",
           "ticks": "",
           "title": {
            "standoff": 15
           },
           "zerolinecolor": "white",
           "zerolinewidth": 2
          },
          "yaxis": {
           "automargin": true,
           "gridcolor": "white",
           "linecolor": "white",
           "ticks": "",
           "title": {
            "standoff": 15
           },
           "zerolinecolor": "white",
           "zerolinewidth": 2
          }
         }
        },
        "xaxis": {
         "anchor": "y",
         "domain": [
          0,
          1
         ],
         "title": {
          "text": "Support"
         }
        },
        "yaxis": {
         "anchor": "x",
         "domain": [
          0,
          1
         ],
         "title": {
          "text": "Confidence"
         }
        }
       }
      }
     },
     "metadata": {},
     "output_type": "display_data"
    }
   ],
   "source": [
    "#Rules plotting in an interactive pattern\n",
    "rules_df=pd.DataFrame(associationRules,columns=['LHS','RHS','Support','Confidence','Lift'])\n",
    "import plotly.express as px\n",
    "fig = px.scatter(rules_df,x=\"Support\",y=\"Confidence\",color=\"Lift\",\n",
    "                 hover_data=['LHS','RHS'],color_continuous_scale=\"agsunset\")\n",
    "fig.show()"
   ]
  },
  {
   "cell_type": "code",
   "execution_count": 27,
   "metadata": {},
   "outputs": [
    {
     "data": {
      "text/plain": [
       "yes    80\n",
       "no     40\n",
       "Name: Urine_Pushing, dtype: int64"
      ]
     },
     "execution_count": 27,
     "metadata": {},
     "output_type": "execute_result"
    }
   ],
   "source": [
    "#number of true diagnosed Urine Pushing\n",
    "diagnosis.iloc[:,2].value_counts()"
   ]
  }
 ],
 "metadata": {
  "kernelspec": {
   "display_name": "Python 3.9.12 ('base')",
   "language": "python",
   "name": "python3"
  },
  "language_info": {
   "codemirror_mode": {
    "name": "ipython",
    "version": 3
   },
   "file_extension": ".py",
   "mimetype": "text/x-python",
   "name": "python",
   "nbconvert_exporter": "python",
   "pygments_lexer": "ipython3",
   "version": "3.9.12"
  },
  "orig_nbformat": 4,
  "vscode": {
   "interpreter": {
    "hash": "f87dae2827508e516120f44c24e8e0ebeec5325781a56c89f2ad4632e35021f8"
   }
  }
 },
 "nbformat": 4,
 "nbformat_minor": 2
}
